{
 "cells": [
  {
   "cell_type": "markdown",
   "metadata": {},
   "source": [
    "# Analysis on model using saliency map\n",
    "\n",
    "\n",
    "**Paper on measuring bias and fainess**\n",
    "http://ai.stanford.edu/blog/bias-nlp/\n",
    "\n",
    "**Example Sample Matching for Gender**\n",
    "https://aclanthology.org/2022.gebnlp-1.20.pdf"
   ]
  },
  {
   "cell_type": "code",
   "execution_count": null,
   "metadata": {},
   "outputs": [],
   "source": []
  }
 ],
 "metadata": {
  "language_info": {
   "name": "python"
  },
  "orig_nbformat": 4
 },
 "nbformat": 4,
 "nbformat_minor": 2
}
