{
 "cells": [
  {
   "cell_type": "markdown",
   "metadata": {},
   "source": [
    "# Analysis on model using saliency map\n",
    "\n",
    "**Model 1** \n",
    "\n",
    "https://huggingface.co/Hate-speech-CNERG/dehatebert-mono-english\n",
    "\n",
    "**Model 2**\n",
    "\n",
    "https://huggingface.co/facebook/roberta-hate-speech-dynabench-r4-target\n",
    "\n",
    "**Datasets**\n",
    "\n",
    "https://github.com/hate-alert/DE-LIMIT/tree/master/Dataset\n",
    "\n",
    "https://github.com/bvidgen/Dynamically-Generated-Hate-Speech-Dataset\n",
    "\n",
    "**Paper on measuring bias and fainess**\n",
    "\n",
    "http://ai.stanford.edu/blog/bias-nlp/\n",
    "\n",
    "**Example Sample Matching for Gender**\n",
    "\n",
    "https://aclanthology.org/2022.gebnlp-1.20.pdf"
   ]
  },
  {
   "cell_type": "code",
   "execution_count": 2,
   "metadata": {},
   "outputs": [
    {
     "name": "stderr",
     "output_type": "stream",
     "text": [
      "/Users/tania/opt/anaconda3/envs/saliency-env/lib/python3.8/site-packages/tqdm/auto.py:22: TqdmWarning: IProgress not found. Please update jupyter and ipywidgets. See https://ipywidgets.readthedocs.io/en/stable/user_install.html\n",
      "  from .autonotebook import tqdm as notebook_tqdm\n"
     ]
    }
   ],
   "source": [
    "from transformers import AutoTokenizer, AutoModelForSequenceClassification, AutoConfig\n",
    "import matplotlib.pyplot as plt\n",
    "import numpy as np\n",
    "import torch"
   ]
  },
  {
   "cell_type": "code",
   "execution_count": 3,
   "metadata": {},
   "outputs": [
    {
     "name": "stderr",
     "output_type": "stream",
     "text": [
      "Downloading: 100%|██████████| 152/152 [00:00<00:00, 97.4kB/s]\n",
      "Downloading: 100%|██████████| 1.23k/1.23k [00:00<00:00, 1.69MB/s]\n",
      "Downloading: 100%|██████████| 872k/872k [00:01<00:00, 532kB/s]  \n",
      "Downloading: 100%|██████████| 112/112 [00:00<00:00, 160kB/s]\n",
      "Downloading: 100%|██████████| 669M/669M [01:03<00:00, 10.6MB/s]    \n"
     ]
    }
   ],
   "source": [
    "## Load Models \n",
    "tokenizer = AutoTokenizer.from_pretrained(\"Hate-speech-CNERG/dehatebert-mono-english\")\n",
    "model = AutoModelForSequenceClassification.from_pretrained(\"Hate-speech-CNERG/dehatebert-mono-english\")"
   ]
  },
  {
   "cell_type": "code",
   "execution_count": null,
   "metadata": {},
   "outputs": [],
   "source": [
    "## Load Datasets"
   ]
  },
  {
   "cell_type": "markdown",
   "metadata": {},
   "source": [
    "### 1. Exploration: test known NLP inconsistencies"
   ]
  },
  {
   "cell_type": "markdown",
   "metadata": {},
   "source": [
    "### 2. Scale out and find quatifiable metrics "
   ]
  },
  {
   "cell_type": "markdown",
   "metadata": {},
   "source": [
    "### 3. Test the model trained with dynamic benchmarking\n"
   ]
  },
  {
   "cell_type": "code",
   "execution_count": null,
   "metadata": {},
   "outputs": [],
   "source": [
    "## Models funetuned with the dynamic tested dataset\n",
    "fb_tokenizer = AutoTokenizer.from_pretrained(\"facebook/roberta-hate-speech-dynabench-r4-target\")\n",
    "fb_model = AutoModelForSequenceClassification.from_pretrained(\"facebook/roberta-hate-speech-dynabench-r4-target\")"
   ]
  }
 ],
 "metadata": {
  "kernelspec": {
   "display_name": "Python 3.8.15 ('saliency-env')",
   "language": "python",
   "name": "python3"
  },
  "language_info": {
   "codemirror_mode": {
    "name": "ipython",
    "version": 3
   },
   "file_extension": ".py",
   "mimetype": "text/x-python",
   "name": "python",
   "nbconvert_exporter": "python",
   "pygments_lexer": "ipython3",
   "version": "3.8.15"
  },
  "orig_nbformat": 4,
  "vscode": {
   "interpreter": {
    "hash": "ec43192dccb84690ef981c636a208d6a2fd462074ba4b3084a674fcd94d8cad8"
   }
  }
 },
 "nbformat": 4,
 "nbformat_minor": 2
}
